{
 "metadata": {
  "language_info": {
   "codemirror_mode": {
    "name": "ipython",
    "version": 3
   },
   "file_extension": ".py",
   "mimetype": "text/x-python",
   "name": "python",
   "nbconvert_exporter": "python",
   "pygments_lexer": "ipython3",
   "version": "3.8.3-final"
  },
  "orig_nbformat": 2,
  "kernelspec": {
   "name": "python3",
   "display_name": "Python 3"
  }
 },
 "nbformat": 4,
 "nbformat_minor": 2,
 "cells": [
  {
   "cell_type": "code",
   "execution_count": 95,
   "metadata": {},
   "outputs": [],
   "source": [
    "import pandas as pd\n",
    "import numpy as np\n",
    "import datetime"
   ]
  },
  {
   "cell_type": "code",
   "execution_count": 96,
   "metadata": {},
   "outputs": [
    {
     "output_type": "execute_result",
     "data": {
      "text/plain": "         Date  BTC price [USD]  Volume BTC  Gold price[USD]  \\\n0  2014-12-01            370.0        0.06           1332.5   \n1  2014-12-02            378.0       15.01           1314.7   \n2  2014-12-03            378.0        0.55           1325.8   \n3  2014-12-04            377.1        0.01           1324.2   \n4  2014-12-05            377.1        0.00           1310.8   \n\n   Oil WTI price[USD]  SP500 close index  BTC n-transactions  \\\n0               68.98            2053.44             79098.0   \n1               66.99            2066.55             99419.0   \n2               67.30            2074.33             99419.0   \n3               66.73            2071.92             99419.0   \n4               65.89            2075.37             90900.0   \n\n   M2(Not seasonally adjusted)[1e+09 USD]  BTC google search interest  \n0                                 11747.9                           3  \n1                                 11747.9                           3  \n2                                 11747.9                           3  \n3                                 11747.9                           3  \n4                                 11747.9                           3  ",
      "text/html": "<div>\n<style scoped>\n    .dataframe tbody tr th:only-of-type {\n        vertical-align: middle;\n    }\n\n    .dataframe tbody tr th {\n        vertical-align: top;\n    }\n\n    .dataframe thead th {\n        text-align: right;\n    }\n</style>\n<table border=\"1\" class=\"dataframe\">\n  <thead>\n    <tr style=\"text-align: right;\">\n      <th></th>\n      <th>Date</th>\n      <th>BTC price [USD]</th>\n      <th>Volume BTC</th>\n      <th>Gold price[USD]</th>\n      <th>Oil WTI price[USD]</th>\n      <th>SP500 close index</th>\n      <th>BTC n-transactions</th>\n      <th>M2(Not seasonally adjusted)[1e+09 USD]</th>\n      <th>BTC google search interest</th>\n    </tr>\n  </thead>\n  <tbody>\n    <tr>\n      <th>0</th>\n      <td>2014-12-01</td>\n      <td>370.0</td>\n      <td>0.06</td>\n      <td>1332.5</td>\n      <td>68.98</td>\n      <td>2053.44</td>\n      <td>79098.0</td>\n      <td>11747.9</td>\n      <td>3</td>\n    </tr>\n    <tr>\n      <th>1</th>\n      <td>2014-12-02</td>\n      <td>378.0</td>\n      <td>15.01</td>\n      <td>1314.7</td>\n      <td>66.99</td>\n      <td>2066.55</td>\n      <td>99419.0</td>\n      <td>11747.9</td>\n      <td>3</td>\n    </tr>\n    <tr>\n      <th>2</th>\n      <td>2014-12-03</td>\n      <td>378.0</td>\n      <td>0.55</td>\n      <td>1325.8</td>\n      <td>67.30</td>\n      <td>2074.33</td>\n      <td>99419.0</td>\n      <td>11747.9</td>\n      <td>3</td>\n    </tr>\n    <tr>\n      <th>3</th>\n      <td>2014-12-04</td>\n      <td>377.1</td>\n      <td>0.01</td>\n      <td>1324.2</td>\n      <td>66.73</td>\n      <td>2071.92</td>\n      <td>99419.0</td>\n      <td>11747.9</td>\n      <td>3</td>\n    </tr>\n    <tr>\n      <th>4</th>\n      <td>2014-12-05</td>\n      <td>377.1</td>\n      <td>0.00</td>\n      <td>1310.8</td>\n      <td>65.89</td>\n      <td>2075.37</td>\n      <td>90900.0</td>\n      <td>11747.9</td>\n      <td>3</td>\n    </tr>\n  </tbody>\n</table>\n</div>"
     },
     "metadata": {},
     "execution_count": 96
    }
   ],
   "source": [
    "df_main = pd.read_csv(\"bitcoin gold price.csv\")\n",
    "df_main.head()"
   ]
  },
  {
   "cell_type": "code",
   "execution_count": 97,
   "metadata": {},
   "outputs": [],
   "source": [
    "df_main['Date'] = pd.to_datetime(df_main['Date'])"
   ]
  },
  {
   "cell_type": "code",
   "execution_count": 98,
   "metadata": {},
   "outputs": [
    {
     "output_type": "execute_result",
     "data": {
      "text/plain": "       Date  VIX Open  VIX High  VIX Low  VIX Close\n0  1/2/2004     17.96     18.68    17.54      18.22\n1  1/5/2004     18.45     18.49    17.44      17.49\n2  1/6/2004     17.66     17.67    16.19      16.73\n3  1/7/2004     16.72     16.75    15.50      15.50\n4  1/8/2004     15.42     15.68    15.32      15.61",
      "text/html": "<div>\n<style scoped>\n    .dataframe tbody tr th:only-of-type {\n        vertical-align: middle;\n    }\n\n    .dataframe tbody tr th {\n        vertical-align: top;\n    }\n\n    .dataframe thead th {\n        text-align: right;\n    }\n</style>\n<table border=\"1\" class=\"dataframe\">\n  <thead>\n    <tr style=\"text-align: right;\">\n      <th></th>\n      <th>Date</th>\n      <th>VIX Open</th>\n      <th>VIX High</th>\n      <th>VIX Low</th>\n      <th>VIX Close</th>\n    </tr>\n  </thead>\n  <tbody>\n    <tr>\n      <th>0</th>\n      <td>1/2/2004</td>\n      <td>17.96</td>\n      <td>18.68</td>\n      <td>17.54</td>\n      <td>18.22</td>\n    </tr>\n    <tr>\n      <th>1</th>\n      <td>1/5/2004</td>\n      <td>18.45</td>\n      <td>18.49</td>\n      <td>17.44</td>\n      <td>17.49</td>\n    </tr>\n    <tr>\n      <th>2</th>\n      <td>1/6/2004</td>\n      <td>17.66</td>\n      <td>17.67</td>\n      <td>16.19</td>\n      <td>16.73</td>\n    </tr>\n    <tr>\n      <th>3</th>\n      <td>1/7/2004</td>\n      <td>16.72</td>\n      <td>16.75</td>\n      <td>15.50</td>\n      <td>15.50</td>\n    </tr>\n    <tr>\n      <th>4</th>\n      <td>1/8/2004</td>\n      <td>15.42</td>\n      <td>15.68</td>\n      <td>15.32</td>\n      <td>15.61</td>\n    </tr>\n  </tbody>\n</table>\n</div>"
     },
     "metadata": {},
     "execution_count": 98
    }
   ],
   "source": [
    "df_vix = pd.read_csv('vixcurrent.csv', header=1)\n",
    "df_vix.head()"
   ]
  },
  {
   "cell_type": "code",
   "execution_count": 99,
   "metadata": {},
   "outputs": [
    {
     "output_type": "execute_result",
     "data": {
      "text/plain": "        Date  VIX Open  VIX High  VIX Low  VIX Close\n0 2004-01-02     17.96     18.68    17.54      18.22\n1 2004-01-05     18.45     18.49    17.44      17.49\n2 2004-01-06     17.66     17.67    16.19      16.73\n3 2004-01-07     16.72     16.75    15.50      15.50\n4 2004-01-08     15.42     15.68    15.32      15.61",
      "text/html": "<div>\n<style scoped>\n    .dataframe tbody tr th:only-of-type {\n        vertical-align: middle;\n    }\n\n    .dataframe tbody tr th {\n        vertical-align: top;\n    }\n\n    .dataframe thead th {\n        text-align: right;\n    }\n</style>\n<table border=\"1\" class=\"dataframe\">\n  <thead>\n    <tr style=\"text-align: right;\">\n      <th></th>\n      <th>Date</th>\n      <th>VIX Open</th>\n      <th>VIX High</th>\n      <th>VIX Low</th>\n      <th>VIX Close</th>\n    </tr>\n  </thead>\n  <tbody>\n    <tr>\n      <th>0</th>\n      <td>2004-01-02</td>\n      <td>17.96</td>\n      <td>18.68</td>\n      <td>17.54</td>\n      <td>18.22</td>\n    </tr>\n    <tr>\n      <th>1</th>\n      <td>2004-01-05</td>\n      <td>18.45</td>\n      <td>18.49</td>\n      <td>17.44</td>\n      <td>17.49</td>\n    </tr>\n    <tr>\n      <th>2</th>\n      <td>2004-01-06</td>\n      <td>17.66</td>\n      <td>17.67</td>\n      <td>16.19</td>\n      <td>16.73</td>\n    </tr>\n    <tr>\n      <th>3</th>\n      <td>2004-01-07</td>\n      <td>16.72</td>\n      <td>16.75</td>\n      <td>15.50</td>\n      <td>15.50</td>\n    </tr>\n    <tr>\n      <th>4</th>\n      <td>2004-01-08</td>\n      <td>15.42</td>\n      <td>15.68</td>\n      <td>15.32</td>\n      <td>15.61</td>\n    </tr>\n  </tbody>\n</table>\n</div>"
     },
     "metadata": {},
     "execution_count": 99
    }
   ],
   "source": [
    "df_vix['Date'] = pd.to_datetime(df_vix['Date'])\n",
    "df_vix.head()"
   ]
  },
  {
   "cell_type": "code",
   "execution_count": 100,
   "metadata": {},
   "outputs": [],
   "source": [
    "df_vix = df_vix.drop(['VIX Open', 'VIX High', 'VIX Low'], axis=1)"
   ]
  },
  {
   "cell_type": "code",
   "execution_count": 101,
   "metadata": {},
   "outputs": [
    {
     "output_type": "execute_result",
     "data": {
      "text/plain": "        Date  VIX Close\n0 2004-01-02      18.22\n1 2004-01-05      17.49\n2 2004-01-06      16.73\n3 2004-01-07      15.50\n4 2004-01-08      15.61",
      "text/html": "<div>\n<style scoped>\n    .dataframe tbody tr th:only-of-type {\n        vertical-align: middle;\n    }\n\n    .dataframe tbody tr th {\n        vertical-align: top;\n    }\n\n    .dataframe thead th {\n        text-align: right;\n    }\n</style>\n<table border=\"1\" class=\"dataframe\">\n  <thead>\n    <tr style=\"text-align: right;\">\n      <th></th>\n      <th>Date</th>\n      <th>VIX Close</th>\n    </tr>\n  </thead>\n  <tbody>\n    <tr>\n      <th>0</th>\n      <td>2004-01-02</td>\n      <td>18.22</td>\n    </tr>\n    <tr>\n      <th>1</th>\n      <td>2004-01-05</td>\n      <td>17.49</td>\n    </tr>\n    <tr>\n      <th>2</th>\n      <td>2004-01-06</td>\n      <td>16.73</td>\n    </tr>\n    <tr>\n      <th>3</th>\n      <td>2004-01-07</td>\n      <td>15.50</td>\n    </tr>\n    <tr>\n      <th>4</th>\n      <td>2004-01-08</td>\n      <td>15.61</td>\n    </tr>\n  </tbody>\n</table>\n</div>"
     },
     "metadata": {},
     "execution_count": 101
    }
   ],
   "source": [
    "df_vix.head()"
   ]
  },
  {
   "cell_type": "code",
   "execution_count": 102,
   "metadata": {},
   "outputs": [],
   "source": [
    "df_final = pd.merge(df_main, df_vix, how='left', on='Date')"
   ]
  },
  {
   "cell_type": "code",
   "execution_count": 103,
   "metadata": {},
   "outputs": [
    {
     "output_type": "execute_result",
     "data": {
      "text/plain": "        Date  BTC price [USD]  Volume BTC  Gold price[USD]  \\\n0 2014-12-01            370.0        0.06           1332.5   \n1 2014-12-02            378.0       15.01           1314.7   \n2 2014-12-03            378.0        0.55           1325.8   \n3 2014-12-04            377.1        0.01           1324.2   \n4 2014-12-05            377.1        0.00           1310.8   \n\n   Oil WTI price[USD]  SP500 close index  BTC n-transactions  \\\n0               68.98            2053.44             79098.0   \n1               66.99            2066.55             99419.0   \n2               67.30            2074.33             99419.0   \n3               66.73            2071.92             99419.0   \n4               65.89            2075.37             90900.0   \n\n   M2(Not seasonally adjusted)[1e+09 USD]  BTC google search interest  \\\n0                                 11747.9                           3   \n1                                 11747.9                           3   \n2                                 11747.9                           3   \n3                                 11747.9                           3   \n4                                 11747.9                           3   \n\n   VIX Close  \n0      14.29  \n1      12.85  \n2      12.47  \n3      12.38  \n4      11.82  ",
      "text/html": "<div>\n<style scoped>\n    .dataframe tbody tr th:only-of-type {\n        vertical-align: middle;\n    }\n\n    .dataframe tbody tr th {\n        vertical-align: top;\n    }\n\n    .dataframe thead th {\n        text-align: right;\n    }\n</style>\n<table border=\"1\" class=\"dataframe\">\n  <thead>\n    <tr style=\"text-align: right;\">\n      <th></th>\n      <th>Date</th>\n      <th>BTC price [USD]</th>\n      <th>Volume BTC</th>\n      <th>Gold price[USD]</th>\n      <th>Oil WTI price[USD]</th>\n      <th>SP500 close index</th>\n      <th>BTC n-transactions</th>\n      <th>M2(Not seasonally adjusted)[1e+09 USD]</th>\n      <th>BTC google search interest</th>\n      <th>VIX Close</th>\n    </tr>\n  </thead>\n  <tbody>\n    <tr>\n      <th>0</th>\n      <td>2014-12-01</td>\n      <td>370.0</td>\n      <td>0.06</td>\n      <td>1332.5</td>\n      <td>68.98</td>\n      <td>2053.44</td>\n      <td>79098.0</td>\n      <td>11747.9</td>\n      <td>3</td>\n      <td>14.29</td>\n    </tr>\n    <tr>\n      <th>1</th>\n      <td>2014-12-02</td>\n      <td>378.0</td>\n      <td>15.01</td>\n      <td>1314.7</td>\n      <td>66.99</td>\n      <td>2066.55</td>\n      <td>99419.0</td>\n      <td>11747.9</td>\n      <td>3</td>\n      <td>12.85</td>\n    </tr>\n    <tr>\n      <th>2</th>\n      <td>2014-12-03</td>\n      <td>378.0</td>\n      <td>0.55</td>\n      <td>1325.8</td>\n      <td>67.30</td>\n      <td>2074.33</td>\n      <td>99419.0</td>\n      <td>11747.9</td>\n      <td>3</td>\n      <td>12.47</td>\n    </tr>\n    <tr>\n      <th>3</th>\n      <td>2014-12-04</td>\n      <td>377.1</td>\n      <td>0.01</td>\n      <td>1324.2</td>\n      <td>66.73</td>\n      <td>2071.92</td>\n      <td>99419.0</td>\n      <td>11747.9</td>\n      <td>3</td>\n      <td>12.38</td>\n    </tr>\n    <tr>\n      <th>4</th>\n      <td>2014-12-05</td>\n      <td>377.1</td>\n      <td>0.00</td>\n      <td>1310.8</td>\n      <td>65.89</td>\n      <td>2075.37</td>\n      <td>90900.0</td>\n      <td>11747.9</td>\n      <td>3</td>\n      <td>11.82</td>\n    </tr>\n  </tbody>\n</table>\n</div>"
     },
     "metadata": {},
     "execution_count": 103
    }
   ],
   "source": [
    "df_final.head(5)"
   ]
  },
  {
   "cell_type": "code",
   "execution_count": 104,
   "metadata": {},
   "outputs": [
    {
     "output_type": "execute_result",
     "data": {
      "text/plain": "       BTC price [USD]     Volume BTC  Gold price[USD]  Oil WTI price[USD]  \\\ncount      1980.000000    1980.000000      1980.000000         1980.000000   \nmean       4172.869449   11039.421273      1340.793672           51.936136   \nstd        3995.565895   10345.035195       120.182162           10.935076   \nmin         120.000000       0.000000      1070.800000          -36.980000   \n25%         444.145000    5324.332500      1270.200000           46.162500   \n50%        3388.715000    7956.795000      1322.400000           52.130000   \n75%        7386.667500   13623.747500      1391.025000           58.765000   \nmax       19650.000000  160540.990000      1768.900000           77.410000   \n\n       SP500 close index  BTC n-transactions  \\\ncount        1980.000000         1980.000000   \nmean         2479.467232       239391.428788   \nstd           380.250433        80222.067654   \nmin          1829.080000        59344.000000   \n25%          2102.310000       186979.000000   \n50%          2459.205000       239809.000000   \n75%          2791.735000       300111.000000   \nmax          3386.150000       439549.000000   \n\n       M2(Not seasonally adjusted)[1e+09 USD]  BTC google search interest  \\\ncount                             1980.000000                 1980.000000   \nmean                             13633.964495                   12.400505   \nstd                               1216.589678                   14.797050   \nmin                              11746.900000                    2.000000   \n25%                              12697.400000                    3.000000   \n50%                              13646.100000                   10.000000   \n75%                              14411.400000                   15.000000   \nmax                              17269.800000                  100.000000   \n\n         VIX Close  \ncount  1365.000000  \nmean     16.412674  \nstd       7.913542  \nmin       9.140000  \n25%      12.390000  \n50%      14.280000  \n75%      17.660000  \nmax      82.690000  ",
      "text/html": "<div>\n<style scoped>\n    .dataframe tbody tr th:only-of-type {\n        vertical-align: middle;\n    }\n\n    .dataframe tbody tr th {\n        vertical-align: top;\n    }\n\n    .dataframe thead th {\n        text-align: right;\n    }\n</style>\n<table border=\"1\" class=\"dataframe\">\n  <thead>\n    <tr style=\"text-align: right;\">\n      <th></th>\n      <th>BTC price [USD]</th>\n      <th>Volume BTC</th>\n      <th>Gold price[USD]</th>\n      <th>Oil WTI price[USD]</th>\n      <th>SP500 close index</th>\n      <th>BTC n-transactions</th>\n      <th>M2(Not seasonally adjusted)[1e+09 USD]</th>\n      <th>BTC google search interest</th>\n      <th>VIX Close</th>\n    </tr>\n  </thead>\n  <tbody>\n    <tr>\n      <th>count</th>\n      <td>1980.000000</td>\n      <td>1980.000000</td>\n      <td>1980.000000</td>\n      <td>1980.000000</td>\n      <td>1980.000000</td>\n      <td>1980.000000</td>\n      <td>1980.000000</td>\n      <td>1980.000000</td>\n      <td>1365.000000</td>\n    </tr>\n    <tr>\n      <th>mean</th>\n      <td>4172.869449</td>\n      <td>11039.421273</td>\n      <td>1340.793672</td>\n      <td>51.936136</td>\n      <td>2479.467232</td>\n      <td>239391.428788</td>\n      <td>13633.964495</td>\n      <td>12.400505</td>\n      <td>16.412674</td>\n    </tr>\n    <tr>\n      <th>std</th>\n      <td>3995.565895</td>\n      <td>10345.035195</td>\n      <td>120.182162</td>\n      <td>10.935076</td>\n      <td>380.250433</td>\n      <td>80222.067654</td>\n      <td>1216.589678</td>\n      <td>14.797050</td>\n      <td>7.913542</td>\n    </tr>\n    <tr>\n      <th>min</th>\n      <td>120.000000</td>\n      <td>0.000000</td>\n      <td>1070.800000</td>\n      <td>-36.980000</td>\n      <td>1829.080000</td>\n      <td>59344.000000</td>\n      <td>11746.900000</td>\n      <td>2.000000</td>\n      <td>9.140000</td>\n    </tr>\n    <tr>\n      <th>25%</th>\n      <td>444.145000</td>\n      <td>5324.332500</td>\n      <td>1270.200000</td>\n      <td>46.162500</td>\n      <td>2102.310000</td>\n      <td>186979.000000</td>\n      <td>12697.400000</td>\n      <td>3.000000</td>\n      <td>12.390000</td>\n    </tr>\n    <tr>\n      <th>50%</th>\n      <td>3388.715000</td>\n      <td>7956.795000</td>\n      <td>1322.400000</td>\n      <td>52.130000</td>\n      <td>2459.205000</td>\n      <td>239809.000000</td>\n      <td>13646.100000</td>\n      <td>10.000000</td>\n      <td>14.280000</td>\n    </tr>\n    <tr>\n      <th>75%</th>\n      <td>7386.667500</td>\n      <td>13623.747500</td>\n      <td>1391.025000</td>\n      <td>58.765000</td>\n      <td>2791.735000</td>\n      <td>300111.000000</td>\n      <td>14411.400000</td>\n      <td>15.000000</td>\n      <td>17.660000</td>\n    </tr>\n    <tr>\n      <th>max</th>\n      <td>19650.000000</td>\n      <td>160540.990000</td>\n      <td>1768.900000</td>\n      <td>77.410000</td>\n      <td>3386.150000</td>\n      <td>439549.000000</td>\n      <td>17269.800000</td>\n      <td>100.000000</td>\n      <td>82.690000</td>\n    </tr>\n  </tbody>\n</table>\n</div>"
     },
     "metadata": {},
     "execution_count": 104
    }
   ],
   "source": [
    "df_final.describe()"
   ]
  },
  {
   "cell_type": "code",
   "execution_count": 105,
   "metadata": {},
   "outputs": [
    {
     "output_type": "execute_result",
     "data": {
      "text/plain": "Date                                        0\nBTC price [USD]                             0\nVolume BTC                                  0\nGold price[USD]                             0\nOil WTI price[USD]                          0\nSP500 close index                           0\nBTC n-transactions                          0\nM2(Not seasonally adjusted)[1e+09 USD]      0\nBTC google search interest                  0\nVIX Close                                 615\ndtype: int64"
     },
     "metadata": {},
     "execution_count": 105
    }
   ],
   "source": [
    "df_final.isnull().sum()"
   ]
  },
  {
   "cell_type": "code",
   "execution_count": 106,
   "metadata": {},
   "outputs": [],
   "source": [
    "df_final.dropna(inplace=True)\n",
    "df_final.reset_index(drop=True, inplace=True)"
   ]
  },
  {
   "cell_type": "code",
   "execution_count": 110,
   "metadata": {},
   "outputs": [
    {
     "output_type": "execute_result",
     "data": {
      "text/plain": "        Date  BTC price [USD]  Volume BTC  Gold price[USD]  \\\n0 2014-12-01            370.0        0.06           1332.5   \n1 2014-12-02            378.0       15.01           1314.7   \n2 2014-12-03            378.0        0.55           1325.8   \n3 2014-12-04            377.1        0.01           1324.2   \n4 2014-12-05            377.1        0.00           1310.8   \n5 2014-12-08            375.0        0.24           1314.4   \n6 2014-12-09            375.0        0.00           1350.2   \n7 2014-12-10            360.5        0.02           1345.5   \n8 2014-12-11            360.5        0.00           1342.3   \n9 2014-12-12            350.0        3.15           1333.5   \n\n   Oil WTI price[USD]  SP500 close index  BTC n-transactions  \\\n0               68.98            2053.44             79098.0   \n1               66.99            2066.55             99419.0   \n2               67.30            2074.33             99419.0   \n3               66.73            2071.92             99419.0   \n4               65.89            2075.37             90900.0   \n5               63.13            2060.31             90746.0   \n6               63.74            2059.82             90746.0   \n7               60.99            2026.14             90746.0   \n8               60.01            2035.33             84005.0   \n9               57.81            2002.33             84005.0   \n\n   BTC google search interest  VIX Close  \n0                           3      14.29  \n1                           3      12.85  \n2                           3      12.47  \n3                           3      12.38  \n4                           3      11.82  \n5                           3      14.21  \n6                           3      14.89  \n7                           3      18.53  \n8                           3      20.08  \n9                           3      21.08  ",
      "text/html": "<div>\n<style scoped>\n    .dataframe tbody tr th:only-of-type {\n        vertical-align: middle;\n    }\n\n    .dataframe tbody tr th {\n        vertical-align: top;\n    }\n\n    .dataframe thead th {\n        text-align: right;\n    }\n</style>\n<table border=\"1\" class=\"dataframe\">\n  <thead>\n    <tr style=\"text-align: right;\">\n      <th></th>\n      <th>Date</th>\n      <th>BTC price [USD]</th>\n      <th>Volume BTC</th>\n      <th>Gold price[USD]</th>\n      <th>Oil WTI price[USD]</th>\n      <th>SP500 close index</th>\n      <th>BTC n-transactions</th>\n      <th>BTC google search interest</th>\n      <th>VIX Close</th>\n    </tr>\n  </thead>\n  <tbody>\n    <tr>\n      <th>0</th>\n      <td>2014-12-01</td>\n      <td>370.0</td>\n      <td>0.06</td>\n      <td>1332.5</td>\n      <td>68.98</td>\n      <td>2053.44</td>\n      <td>79098.0</td>\n      <td>3</td>\n      <td>14.29</td>\n    </tr>\n    <tr>\n      <th>1</th>\n      <td>2014-12-02</td>\n      <td>378.0</td>\n      <td>15.01</td>\n      <td>1314.7</td>\n      <td>66.99</td>\n      <td>2066.55</td>\n      <td>99419.0</td>\n      <td>3</td>\n      <td>12.85</td>\n    </tr>\n    <tr>\n      <th>2</th>\n      <td>2014-12-03</td>\n      <td>378.0</td>\n      <td>0.55</td>\n      <td>1325.8</td>\n      <td>67.30</td>\n      <td>2074.33</td>\n      <td>99419.0</td>\n      <td>3</td>\n      <td>12.47</td>\n    </tr>\n    <tr>\n      <th>3</th>\n      <td>2014-12-04</td>\n      <td>377.1</td>\n      <td>0.01</td>\n      <td>1324.2</td>\n      <td>66.73</td>\n      <td>2071.92</td>\n      <td>99419.0</td>\n      <td>3</td>\n      <td>12.38</td>\n    </tr>\n    <tr>\n      <th>4</th>\n      <td>2014-12-05</td>\n      <td>377.1</td>\n      <td>0.00</td>\n      <td>1310.8</td>\n      <td>65.89</td>\n      <td>2075.37</td>\n      <td>90900.0</td>\n      <td>3</td>\n      <td>11.82</td>\n    </tr>\n    <tr>\n      <th>5</th>\n      <td>2014-12-08</td>\n      <td>375.0</td>\n      <td>0.24</td>\n      <td>1314.4</td>\n      <td>63.13</td>\n      <td>2060.31</td>\n      <td>90746.0</td>\n      <td>3</td>\n      <td>14.21</td>\n    </tr>\n    <tr>\n      <th>6</th>\n      <td>2014-12-09</td>\n      <td>375.0</td>\n      <td>0.00</td>\n      <td>1350.2</td>\n      <td>63.74</td>\n      <td>2059.82</td>\n      <td>90746.0</td>\n      <td>3</td>\n      <td>14.89</td>\n    </tr>\n    <tr>\n      <th>7</th>\n      <td>2014-12-10</td>\n      <td>360.5</td>\n      <td>0.02</td>\n      <td>1345.5</td>\n      <td>60.99</td>\n      <td>2026.14</td>\n      <td>90746.0</td>\n      <td>3</td>\n      <td>18.53</td>\n    </tr>\n    <tr>\n      <th>8</th>\n      <td>2014-12-11</td>\n      <td>360.5</td>\n      <td>0.00</td>\n      <td>1342.3</td>\n      <td>60.01</td>\n      <td>2035.33</td>\n      <td>84005.0</td>\n      <td>3</td>\n      <td>20.08</td>\n    </tr>\n    <tr>\n      <th>9</th>\n      <td>2014-12-12</td>\n      <td>350.0</td>\n      <td>3.15</td>\n      <td>1333.5</td>\n      <td>57.81</td>\n      <td>2002.33</td>\n      <td>84005.0</td>\n      <td>3</td>\n      <td>21.08</td>\n    </tr>\n  </tbody>\n</table>\n</div>"
     },
     "metadata": {},
     "execution_count": 110
    }
   ],
   "source": [
    "df_final.head(10)"
   ]
  },
  {
   "cell_type": "code",
   "execution_count": 109,
   "metadata": {},
   "outputs": [],
   "source": [
    "df_final = df_final.drop(['M2(Not seasonally adjusted)[1e+09 USD]'], axis=1)"
   ]
  },
  {
   "cell_type": "code",
   "execution_count": 111,
   "metadata": {},
   "outputs": [],
   "source": [
    "df_final.to_csv('final_dataset.csv')"
   ]
  }
 ]
}